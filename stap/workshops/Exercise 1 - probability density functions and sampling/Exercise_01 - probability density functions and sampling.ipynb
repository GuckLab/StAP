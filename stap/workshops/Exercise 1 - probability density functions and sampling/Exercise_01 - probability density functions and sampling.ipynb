{
 "cells": [
  {
   "cell_type": "markdown",
   "source": [
    "# Welcome to the StAP Exercise 1 solutions\n",
    "\n",
    "**Topic: probability density functions and sampling**\n",
    "\n",
    "- This notebook gives example solutions for \"Exercise 1 - probability density functions and sampling\"\n",
    "- This notebook and the exercise pdf are hosted on the StAP repository on [github.com/GuckLab/StAP](https://github.com/GuckLab/StAP).\n",
    "- The related lecture is called \"\" and is stored in the resources tab of the above repo. (The video is on the sharedrive).\n",
    "\n",
    "Conrad Moeckel and Eoghan O'Connell, Guck Division, MPL, 2021"
   ],
   "metadata": {
    "collapsed": false,
    "pycharm": {
     "name": "#%% md\n"
    }
   }
  },
  {
   "cell_type": "code",
   "execution_count": 49,
   "metadata": {},
   "outputs": [],
   "source": [
    "%matplotlib inline"
   ]
  },
  {
   "cell_type": "code",
   "execution_count": 50,
   "metadata": {},
   "outputs": [],
   "source": [
    "import numpy as np\n",
    "import matplotlib.pyplot as plt"
   ]
  },
  {
   "cell_type": "markdown",
   "metadata": {},
   "source": [
    "## Question 1"
   ]
  },
  {
   "cell_type": "code",
   "execution_count": 51,
   "metadata": {},
   "outputs": [
    {
     "data": {
      "text/plain": "5"
     },
     "execution_count": 51,
     "metadata": {},
     "output_type": "execute_result"
    }
   ],
   "source": [
    "max(np.random.randint(1, 6, 2))"
   ]
  },
  {
   "cell_type": "code",
   "execution_count": 52,
   "metadata": {},
   "outputs": [],
   "source": [
    "res = []\n",
    "n = 10 ** 2"
   ]
  },
  {
   "cell_type": "code",
   "execution_count": 53,
   "metadata": {},
   "outputs": [],
   "source": [
    "for i in range(1, n + 1):\n",
    "    res.append(max(np.random.randint(1, high=7, size=2)))"
   ]
  },
  {
   "cell_type": "code",
   "execution_count": 54,
   "metadata": {},
   "outputs": [
    {
     "data": {
      "text/plain": "(1, 6, 26)"
     },
     "execution_count": 54,
     "metadata": {},
     "output_type": "execute_result"
    }
   ],
   "source": [
    "(min(res), max(res), res.count(6))"
   ]
  },
  {
   "cell_type": "markdown",
   "source": [
    "How many bins should the histogram have?"
   ],
   "metadata": {
    "collapsed": false,
    "pycharm": {
     "name": "#%% md\n"
    }
   }
  },
  {
   "cell_type": "code",
   "execution_count": 55,
   "outputs": [
    {
     "name": "stdout",
     "output_type": "stream",
     "text": [
      "There are 7 numbers in our bin list (because python needs the end point).\n",
      "But we have 6 bins\n"
     ]
    }
   ],
   "source": [
    "bins = [x - 0.5 for x in list(range(1, 8))]\n",
    "print(f\"There are {len(bins)} numbers in our bin list (because python needs the end point).\")\n",
    "print(f\"But we have {len(bins) - 1} bins\")"
   ],
   "metadata": {
    "collapsed": false,
    "pycharm": {
     "name": "#%%\n"
    }
   }
  },
  {
   "cell_type": "code",
   "execution_count": 56,
   "metadata": {},
   "outputs": [
    {
     "data": {
      "text/plain": "<Figure size 432x288 with 1 Axes>",
      "image/png": "[encoded data removed]"
     },
     "metadata": {
      "needs_background": "light"
     },
     "output_type": "display_data"
    }
   ],
   "source": [
    "hst = plt.hist(res, bins=bins, histtype='bar')"
   ]
  },
  {
   "cell_type": "markdown",
   "source": [
    "Let's look at the probability of each number appearing"
   ],
   "metadata": {
    "collapsed": false,
    "pycharm": {
     "name": "#%% md\n"
    }
   }
  },
  {
   "cell_type": "code",
   "execution_count": 57,
   "metadata": {},
   "outputs": [
    {
     "name": "stdout",
     "output_type": "stream",
     "text": [
      "[[1.   0.03]\n",
      " [2.   0.14]\n",
      " [3.   0.13]\n",
      " [4.   0.22]\n",
      " [5.   0.22]\n",
      " [6.   0.26]]\n"
     ]
    }
   ],
   "source": [
    "probability_number = hst[0] / n\n",
    "prob_arr = np.array([range(1, 7), probability_number])\n",
    "print(prob_arr.T)"
   ]
  },
  {
   "cell_type": "markdown",
   "source": [
    "Why is it that theoretical values and simulated ones do not coincide?"
   ],
   "metadata": {
    "collapsed": false,
    "pycharm": {
     "name": "#%% md\n"
    }
   }
  },
  {
   "cell_type": "code",
   "execution_count": 58,
   "metadata": {},
   "outputs": [],
   "source": [
    "# theoretical probability density for each bin (as shown in the lecture)\n",
    "dlst = np.asarray([[1, 1 / 36], [2, 3 / 36], [3, 5 / 36],\n",
    "                   [4, 7 / 36], [5, 9 / 36], [6, 11 / 36]])"
   ]
  },
  {
   "cell_type": "code",
   "execution_count": 77,
   "metadata": {},
   "outputs": [
    {
     "data": {
      "text/plain": "<Figure size 432x432 with 1 Axes>",
      "image/png": "[encoded data removed]"
     },
     "metadata": {
      "needs_background": "light"
     },
     "output_type": "display_data"
    }
   ],
   "source": [
    "# plot the ratio of the simulated to theoretical values for each bin\n",
    "fig, ax = plt.subplots(figsize=(6, 6))\n",
    "ax.plot(np.divide(hst[0] / n, dlst[:, 1]), label='Sim/Theory')\n",
    "ax.set_ylim([0.5, 2])\n",
    "ax.set_title('Ratio of Simulated to Theoretical values', fontsize=16)\n",
    "ax.set_xlabel(\"$M (i, j)$\", fontsize=16)\n",
    "ax.set_ylabel(\"Ratio $M (i, j)$\", fontsize=16)\n",
    "plt.legend(fontsize=14)\n",
    "\n",
    "mean_dev = 1 - np.mean(np.divide(hst[0] / n, dlst[:, 1]))\n",
    "m_d_text = ax.text(x=3, y=0.7, s=f\"Mean Deviation = {mean_dev:.3f}\")"
   ]
  },
  {
   "cell_type": "markdown",
   "source": [
    "(a) (iii) What happens if you increase the sample size to 10^6?\n",
    "\n",
    "The simulation will converge with the theory."
   ],
   "metadata": {
    "collapsed": false,
    "pycharm": {
     "name": "#%% md\n"
    }
   }
  },
  {
   "cell_type": "markdown",
   "source": [
    "(b) What is the expected outcome of the experiment?\n",
    "\n"
   ],
   "metadata": {
    "collapsed": false,
    "pycharm": {
     "name": "#%% md\n"
    }
   }
  },
  {
   "cell_type": "markdown",
   "source": [
    "(c) Would anything change if we took the number on the die that faces the table?\n",
    "\n",
    "The answer is no. The probability is the same, regardless of which side you look at (consistently)."
   ],
   "metadata": {
    "collapsed": false,
    "pycharm": {
     "name": "#%% md\n"
    }
   }
  },
  {
   "cell_type": "markdown",
   "metadata": {},
   "source": [
    "## Question 2\n",
    "\n",
    "Let's play a game!"
   ]
  },
  {
   "cell_type": "markdown",
   "source": [
    "(a) What is the probability of winning a game?\n",
    "\n",
    "0.5\n",
    "\n",
    "(b) What is the expected amount of money you win/ loose per game?\n",
    "\n",
    "Over time the mean return will be 0."
   ],
   "metadata": {
    "collapsed": false,
    "pycharm": {
     "name": "#%% md\n"
    }
   }
  },
  {
   "cell_type": "markdown",
   "source": [
    "(c) Would you rather play the game 10/100/1000 times? (Simulate it!)\n",
    "\n",
    "Conrad wouldn't play it, Eoghan would play it 1000 times!"
   ],
   "metadata": {
    "collapsed": false,
    "pycharm": {
     "name": "#%% md\n"
    }
   }
  },
  {
   "cell_type": "code",
   "execution_count": 258,
   "metadata": {},
   "outputs": [],
   "source": [
    "# simulation\n",
    "n = 100\n",
    "result = []\n",
    "for i in range(0, n):\n",
    "    # get a random sample\n",
    "    ran_sam = np.random.randint(1, high=7, size=2)\n",
    "    # sum the random sample and store it in the result list\n",
    "    result.append(np.sum(ran_sam))"
   ]
  },
  {
   "cell_type": "code",
   "execution_count": 182,
   "metadata": {},
   "outputs": [
    {
     "data": {
      "text/plain": "6200"
     },
     "execution_count": 182,
     "metadata": {},
     "output_type": "execute_result"
    }
   ],
   "source": [
    "# count the number of 7's, multiply by jackpot (500 euro), subtract amount lost by not getting 7\n",
    "(result.count(7) * 500) - (100 * (n - result.count(7)))"
   ]
  },
  {
   "cell_type": "code",
   "execution_count": 259,
   "metadata": {},
   "outputs": [],
   "source": [
    "# now let's put the above in a function so we can play the game\n",
    "def game1(n):\n",
    "    result = []\n",
    "    for j in range(0, n):\n",
    "        result.append(np.sum(np.random.randint(1, high=7, size=2)))\n",
    "    return (result.count(7) * 500) - (100 * (n - result.count(7)))"
   ]
  },
  {
   "cell_type": "code",
   "execution_count": 260,
   "metadata": {},
   "outputs": [
    {
     "data": {
      "text/plain": "0"
     },
     "execution_count": 260,
     "metadata": {},
     "output_type": "execute_result"
    }
   ],
   "source": [
    "game1(0)"
   ]
  },
  {
   "cell_type": "code",
   "execution_count": 270,
   "outputs": [
    {
     "data": {
      "text/plain": "-3400"
     },
     "execution_count": 270,
     "metadata": {},
     "output_type": "execute_result"
    }
   ],
   "source": [
    "# let's play the game 100 times\n",
    "game1(100)"
   ],
   "metadata": {
    "collapsed": false,
    "pycharm": {
     "name": "#%%\n"
    }
   }
  },
  {
   "cell_type": "markdown",
   "source": [
    "(d) The standard deviation of a (discrete) random variable is defined (see pdf)\n",
    "- How does this quantity change by playing 10/100/1000 times?\n",
    "- Would you still play the game?"
   ],
   "metadata": {
    "collapsed": false,
    "pycharm": {
     "name": "#%% md\n"
    }
   }
  },
  {
   "cell_type": "code",
   "execution_count": 271,
   "outputs": [],
   "source": [
    "# we can play n_max games m times now\n",
    "m = 10\n",
    "n_max = 10\n",
    "res1 = np.zeros((n_max, m))\n",
    "for j in range(0, n_max):\n",
    "    for i in range(0, m):\n",
    "        res1[j, i] = game1(j)"
   ],
   "metadata": {
    "collapsed": false,
    "pycharm": {
     "name": "#%%\n"
    }
   }
  },
  {
   "cell_type": "code",
   "execution_count": 272,
   "outputs": [],
   "source": [
    "means = []\n",
    "sds = []\n",
    "for j in range(0, n_max):\n",
    "    means.append(np.mean(res1[j, :]))\n",
    "    sds.append(np.std(res1[j, :]))"
   ],
   "metadata": {
    "collapsed": false,
    "pycharm": {
     "name": "#%%\n"
    }
   }
  },
  {
   "cell_type": "code",
   "execution_count": 273,
   "outputs": [],
   "source": [
    "nbm = np.linspace(0, n_max, 100)\n",
    "theo_sd = 1 / 6 * np.sqrt(5) * np.sqrt(500 ** 2 * nbm + 100 ** 2 * nbm)\n",
    "theo_m = 0 * nbm"
   ],
   "metadata": {
    "collapsed": false,
    "pycharm": {
     "name": "#%%\n"
    }
   }
  },
  {
   "cell_type": "markdown",
   "source": [
    "Plot the analytic and simulated results of mean and standard deviation in\n",
    "dependence of number of games played."
   ],
   "metadata": {
    "collapsed": false,
    "pycharm": {
     "name": "#%% md\n"
    }
   }
  },
  {
   "cell_type": "code",
   "execution_count": 274,
   "outputs": [
    {
     "data": {
      "text/plain": "<Figure size 648x504 with 1 Axes>",
      "image/png": "[encoded data removed]"
     },
     "metadata": {
      "needs_background": "light"
     },
     "output_type": "display_data"
    }
   ],
   "source": [
    "fig, ax = plt.subplots(figsize=(9, 7))\n",
    "ax.plot(means, c='b', linestyle='-', label='Mean sim')\n",
    "ax.plot(sds, c='r', linestyle='-', label='Std sim')\n",
    "ax.plot(nbm, theo_m, c='b', linestyle='--', label='Mean theory')\n",
    "ax.plot(nbm, theo_sd, c='r', linestyle='--', label='Std theory')\n",
    "ax.set_xlabel(\"Number of times n_max games are played m times\", fontsize=14)\n",
    "ax.set_ylabel(\"Money at the end of the games\", fontsize=14)\n",
    "ax.set_title(\"Mean and std of playing the n_max games m times.\")\n",
    "_ = ax.legend(fontsize='14', loc=2)\n",
    "_ = plt.suptitle(\"Game 1\", fontsize='16')"
   ],
   "metadata": {
    "collapsed": false,
    "pycharm": {
     "name": "#%%\n"
    }
   }
  },
  {
   "cell_type": "markdown",
   "source": [
    "## Question 3\n",
    "\n",
    "If given the choice, would you rather play the game in (2) or the following one? (See pdf)"
   ],
   "metadata": {
    "collapsed": false,
    "pycharm": {
     "name": "#%% md\n"
    }
   }
  },
  {
   "cell_type": "code",
   "execution_count": 351,
   "outputs": [],
   "source": [
    "def game2(n):\n",
    "    result = []\n",
    "    for _ in range(0, n):\n",
    "        if n == 0:\n",
    "            continue\n",
    "        result.append(np.prod(np.random.randint(1, high=7, size=2)) - 10)\n",
    "    return np.mean(result)"
   ],
   "metadata": {
    "collapsed": false,
    "pycharm": {
     "name": "#%%\n"
    }
   }
  },
  {
   "cell_type": "code",
   "execution_count": 353,
   "outputs": [],
   "source": [
    "m = 10\n",
    "n_max = 10\n",
    "res2 = np.zeros((n_max, m))\n",
    "for j in range(0, n_max):\n",
    "    for i in range(0, m):\n",
    "        res2[j, i] = game2(j)"
   ],
   "metadata": {
    "collapsed": false,
    "pycharm": {
     "name": "#%%\n"
    }
   }
  },
  {
   "cell_type": "code",
   "execution_count": 355,
   "outputs": [],
   "source": [
    "means = []\n",
    "sds = []\n",
    "for j in range(0, n_max):\n",
    "    means.append(np.mean(res2[j, :]))\n",
    "    sds.append(np.std(res2[j, :]))"
   ],
   "metadata": {
    "collapsed": false,
    "pycharm": {
     "name": "#%%\n"
    }
   }
  },
  {
   "cell_type": "code",
   "execution_count": 356,
   "outputs": [],
   "source": [
    "nbm = np.linspace(0, n_max, 100)\n",
    "theo_sd = np.ones(nbm.shape[0]) * 10\n",
    "theo_m = np.ones(nbm.shape[0]) * 2"
   ],
   "metadata": {
    "collapsed": false,
    "pycharm": {
     "name": "#%%\n"
    }
   }
  },
  {
   "cell_type": "code",
   "execution_count": 357,
   "outputs": [
    {
     "data": {
      "text/plain": "<Figure size 648x432 with 1 Axes>",
      "image/png": "[encoded data removed]"
     },
     "metadata": {
      "needs_background": "light"
     },
     "output_type": "display_data"
    }
   ],
   "source": [
    "fig, ax = plt.subplots(figsize=(9, 6))\n",
    "ax.plot(means, c='b', linestyle='-', label='Mean sim')\n",
    "ax.plot(sds, c='r', linestyle='-', label='Std sim')\n",
    "ax.plot(nbm, theo_m, c='b', linestyle='--', label='Mean theory')\n",
    "ax.plot(nbm, theo_sd, c='r', linestyle='--', label='Std theory')\n",
    "ax.set_xlabel(\"Number of times n_max games are played m times\", fontsize=14)\n",
    "ax.set_ylabel(\"Money at the end of the games\", fontsize=14)\n",
    "ax.set_title(\"Mean and std of playing the n_max games m times.\")\n",
    "_ = ax.legend(fontsize='12')\n",
    "_ = plt.suptitle(\"Game 2\", fontsize='16')"
   ],
   "metadata": {
    "collapsed": false,
    "pycharm": {
     "name": "#%%\n"
    }
   }
  },
  {
   "cell_type": "code",
   "execution_count": null,
   "outputs": [],
   "source": [],
   "metadata": {
    "collapsed": false,
    "pycharm": {
     "name": "#%%\n"
    }
   }
  }
 ],
 "metadata": {
  "kernelspec": {
   "display_name": "Python 3",
   "language": "python",
   "name": "python3"
  },
  "language_info": {
   "codemirror_mode": {
    "name": "ipython",
    "version": 3
   },
   "file_extension": ".py",
   "mimetype": "text/x-python",
   "name": "python",
   "nbconvert_exporter": "python",
   "pygments_lexer": "ipython3",
   "version": "3.8.3"
  }
 },
 "nbformat": 4,
 "nbformat_minor": 4
}